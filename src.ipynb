{
 "cells": [
  {
   "cell_type": "code",
   "execution_count": 10,
   "metadata": {},
   "outputs": [],
   "source": [
    "from hazm import (\n",
    "    Normalizer, word_tokenize, POSTagger,\n",
    "    Chunker, tree2brackets, Lemmatizer,\n",
    "    DependencyParser\n",
    ")"
   ]
  },
  {
   "cell_type": "code",
   "execution_count": 11,
   "metadata": {},
   "outputs": [
    {
     "name": "stdout",
     "output_type": "stream",
     "text": [
      "کتاب را به علی دادم.\n"
     ]
    }
   ],
   "source": [
    "normalizer = Normalizer()\n",
    "lemmatizer = Lemmatizer()\n",
    "sentence = \"کتاب را به علی دادم.\"\n",
    "# normalize\n",
    "normalized_sentence = normalizer.normalize(sentence)\n",
    "print(normalized_sentence)\n"
   ]
  },
  {
   "cell_type": "code",
   "execution_count": 12,
   "metadata": {},
   "outputs": [
    {
     "name": "stdout",
     "output_type": "stream",
     "text": [
      "[('کتاب', 'N'), ('را', 'POSTP'), ('به', 'P'), ('علی', 'N'), ('دادم', 'V'), ('.', 'PUNC')]\n"
     ]
    }
   ],
   "source": [
    "tagger = POSTagger ( model = 'resources/postagger.model' )\n",
    "tagged = tagger.tag(word_tokenize(normalized_sentence))\n",
    "print(tagged)"
   ]
  },
  {
   "cell_type": "code",
   "execution_count": 13,
   "metadata": {},
   "outputs": [
    {
     "data": {
      "text/plain": [
       "'[کتاب NP] [را POSTP] [به PP] [علی NP] [دادم VP] .'"
      ]
     },
     "execution_count": 13,
     "metadata": {},
     "output_type": "execute_result"
    }
   ],
   "source": [
    "chunker = Chunker(model= 'resources/chunker.model')\n",
    "tree2brackets(chunker.parse(tagged))\n",
    "\n",
    "parser = DependencyParser(tagger=tagger, lemmatizer=lemmatizer)"
   ]
  }
 ],
 "metadata": {
  "interpreter": {
   "hash": "e7370f93d1d0cde622a1f8e1c04877d8463912d04d973331ad4851f04de6915a"
  },
  "kernelspec": {
   "display_name": "Python 3.9.7 64-bit",
   "language": "python",
   "name": "python3"
  },
  "language_info": {
   "codemirror_mode": {
    "name": "ipython",
    "version": 3
   },
   "file_extension": ".py",
   "mimetype": "text/x-python",
   "name": "python",
   "nbconvert_exporter": "python",
   "pygments_lexer": "ipython3",
   "version": "3.9.7"
  },
  "orig_nbformat": 4
 },
 "nbformat": 4,
 "nbformat_minor": 2
}
